{
 "cells": [
  {
   "cell_type": "markdown",
   "metadata": {},
   "source": [
    "## Word Embeddings with gensim Word2Vec"
   ]
  },
  {
   "cell_type": "code",
   "execution_count": 2,
   "metadata": {},
   "outputs": [],
   "source": [
    "import gensim\n",
    "import pandas as pd\n",
    "import numpy as np\n",
    "import os\n",
    "import nltk\n",
    "import string\n",
    "from nltk.tokenize import word_tokenize\n",
    "from nltk.corpus import stopwords\n",
    "from sklearn.metrics.pairwise import cosine_similarity"
   ]
  },
  {
   "cell_type": "code",
   "execution_count": 3,
   "metadata": {},
   "outputs": [
    {
     "name": "stderr",
     "output_type": "stream",
     "text": [
      "[nltk_data] Downloading package punkt to /Users/jansen52x/nltk_data...\n",
      "[nltk_data]   Package punkt is already up-to-date!\n",
      "[nltk_data] Downloading package stopwords to\n",
      "[nltk_data]     /Users/jansen52x/nltk_data...\n",
      "[nltk_data]   Unzipping corpora/stopwords.zip.\n"
     ]
    },
    {
     "data": {
      "text/plain": [
       "True"
      ]
     },
     "execution_count": 3,
     "metadata": {},
     "output_type": "execute_result"
    }
   ],
   "source": [
    "nltk.download(\"punkt\")\n",
    "nltk.download(\"stopwords\")"
   ]
  },
  {
   "cell_type": "code",
   "execution_count": 4,
   "metadata": {},
   "outputs": [],
   "source": [
    "def preprocess(text):\n",
    "    text = text.lower()\n",
    "    text = \"\".join([word for word in text if word not in string.punctuation])\n",
    "    tokens = word_tokenize(text)\n",
    "    stop_words = set(stopwords.words('english'))\n",
    "    tokens = [word for word in tokens if word not in stop_words]\n",
    "    return \" \".join(tokens)"
   ]
  },
  {
   "cell_type": "code",
   "execution_count": 5,
   "metadata": {},
   "outputs": [],
   "source": [
    "def text_to_vector(text, model):\n",
    "    words = text.split()\n",
    "    vectors = [model.wv[word] for word in words if word in model.wv]\n",
    "    if vectors:\n",
    "        return np.mean(vectors, axis=0)\n",
    "    else:\n",
    "        return None"
   ]
  },
  {
   "cell_type": "code",
   "execution_count": null,
   "metadata": {},
   "outputs": [],
   "source": [
    "def find_similar_texts(input, corpus, model):\n",
    "    preprocessed_input = preprocess(input)\n",
    "    input_vector = text_to_vector(preprocessed_input, model)\n",
    "    if input_vector is None:\n",
    "        return \"Could not generate vector for input text\"\n",
    "    \n",
    "    similarities = []\n",
    "    for text in corpus:\n",
    "        preprocessed_text = preprocess(text)\n",
    "        text_vector = text_to_vector(preprocessed_text, model)\n",
    "\n",
    "        if text_vector is not None:\n",
    "            similarity = cosine_similarity([input_vector], [text_vector])[0][0]\n",
    "            similarities.append((text, similarity.item()))\n",
    "        else:\n",
    "            similarities.append((text, 0))\n",
    "\n",
    "    top_similar = sorted(similarities, key=lambda x: x[1], reverse=True)[:10]\n",
    "    final_similar = pd.DataFrame(top_similar, columns=[\"Job Description\", \"Similarity Score\"])\n",
    "\n",
    "    return final_similar"
   ]
  },
  {
   "cell_type": "markdown",
   "metadata": {},
   "source": [
    "### Resume datasets"
   ]
  },
  {
   "cell_type": "code",
   "execution_count": 7,
   "metadata": {},
   "outputs": [
    {
     "name": "stdout",
     "output_type": "stream",
     "text": [
      "File: Software_Developer.csv\n",
      "                                          clean_text\n",
      "0  software developer software developer software...\n",
      "1  software developer project planning 3 years cu...\n",
      "2  sr software engineer software developer smart ...\n",
      "3  technology analyst onsite subject matter exper...\n",
      "4  senior software engineer software engineer sof...\n",
      "\n",
      "\n",
      "File: IT_Security_Analyst.csv\n",
      "                                          clean_text\n",
      "0  it security analyst active directory security ...\n",
      "1  it security analyst vulnerability management i...\n",
      "2  cyber security analyst it support analyst data...\n",
      "3  cyber security analyst freelance it consultant...\n",
      "4  quality assurance lead it security consultant ...\n",
      "\n",
      "\n",
      "File: Software_Developer2.csv\n",
      "                                          clean_text\n",
      "0  senior software developer java linux senior so...\n",
      "1  ui developer react developer ui developer reac...\n",
      "2  engineering manager software developer ios dev...\n",
      "3  application developer full stack java develope...\n",
      "4  tableau developer tableau developer tableau de...\n",
      "\n",
      "\n",
      "File: Software_Developer3.csv\n",
      "                                          clean_text\n",
      "0  software engineer department coordinator and s...\n",
      "1  java full stack developer java full stack deve...\n",
      "2  software developer web developer remote projec...\n",
      "3  software developer it technician asp git html ...\n",
      "4  ui ux developer ui ux developer principal fina...\n",
      "\n",
      "\n",
      "File: Software_Developer1.csv\n",
      "                                          clean_text\n",
      "0  software developer software developer software...\n",
      "1  software developer project planning 3 years cu...\n",
      "2  sr software engineer software developer smart ...\n",
      "3  technology analyst onsite subject matter exper...\n",
      "4  senior software engineer software engineer sof...\n",
      "\n",
      "\n",
      "File: Software_Developer4.csv\n",
      "                                          clean_text\n",
      "0  net developer net developer software developer...\n",
      "1  software engineer software engineer sr softwar...\n",
      "2  software developer software developer software...\n",
      "3  software developer software developer software...\n",
      "4  software engineer data analyst java developer ...\n",
      "\n",
      "\n",
      "File: Software_Developer5.csv\n",
      "                                          clean_text\n",
      "0  senior software developer owner senior softwar...\n",
      "1  system analyst senior software developer senio...\n",
      "2  senior software developer ui development senio...\n",
      "3  application delivery manager software consulta...\n",
      "4  director of software development senior softwa...\n",
      "\n",
      "\n",
      "File: Software_Developer7.csv\n",
      "                                          clean_text\n",
      "0  assistant vice president software development ...\n",
      "1  dba developer owner consultant programmer busi...\n",
      "2  it developer scheduling various jobs assistant...\n",
      "3  senior net developer project team lead senior ...\n",
      "4  software developer consultant software develop...\n",
      "\n",
      "\n",
      "File: IT_Project_Manager.csv\n",
      "                                          clean_text\n",
      "0  it project manager it manager self employed ph...\n",
      "1  it program manager it project manager business...\n",
      "2  it project manager it project specialist jr ar...\n",
      "3  program manager senior project manager pmo sen...\n",
      "4  senior vmo it project manager consultant suppl...\n",
      "\n",
      "\n",
      "File: Database_Administrator.csv\n",
      "                                          clean_text\n",
      "0  database administrator database administrator ...\n",
      "1  database administrator sql microsoft powerpoin...\n",
      "2  oracle database administrator oracle database ...\n",
      "3  amazon redshift administrator and etl develope...\n",
      "4  scrum master oracle database administrator scr...\n",
      "\n",
      "\n",
      "File: Software_Developer10.csv\n",
      "                                          clean_text\n",
      "0  software developer software developer software...\n",
      "1  software developer software developer intern s...\n",
      "2  software developer software developer net deve...\n",
      "3  software developer software developer software...\n",
      "4  software developer software developer software...\n",
      "\n",
      "\n",
      "File: Software_Developer8.csv\n",
      "                                          clean_text\n",
      "0  software engineer python developer software tr...\n",
      "1  freelance developer software developer qa anal...\n",
      "2  java developer java developer java developer s...\n",
      "3  software implementations expert report develop...\n",
      "4  instructor founder ceo software developer oop ...\n",
      "\n",
      "\n",
      "File: Network_Administrator.csv\n",
      "                                          clean_text\n",
      "0  network administrator network administrator vm...\n",
      "1  network technician network administrator netwo...\n",
      "2  research assistant micro and nanosystem engine...\n",
      "3  systems and network administrator technology s...\n",
      "4  guest experience specialist front end supervis...\n",
      "\n",
      "\n",
      "File: Software_Developer9.csv\n",
      "                                          clean_text\n",
      "0  developer developer software engineer develope...\n",
      "1  full stack java developer full stack java deve...\n",
      "2  student researcher software developer mysql ja...\n",
      "3  software developer software engineer software ...\n",
      "4  software developer software developer applicat...\n",
      "\n",
      "\n",
      "File: Python_Developer.csv\n",
      "                                          clean_text\n",
      "0  python developer python developer python devel...\n",
      "1  python developer data scientist data analyst r...\n",
      "2  r d engineer python and shell script developer...\n",
      "3  sr full stack developer sr python full stack d...\n",
      "4  sr full stack python developer full stack pyth...\n",
      "\n",
      "\n",
      "File: System_Administrator.csv\n",
      "                                          clean_text\n",
      "0  systems administrator l2 technical support des...\n",
      "1  systems administrator call center representati...\n",
      "2  systems administrator systems administrator ma...\n",
      "3  systems administrator systems administrator da...\n",
      "4  systems administrator systems administrator sy...\n",
      "\n",
      "\n",
      "File: Java_Dev.csv\n",
      "                                          clean_text\n",
      "0  java developer java developer java developer j...\n",
      "1  java developer java developer documentation 1 ...\n",
      "2  c java android trainer cum developer android s...\n",
      "3  full stack java developer full stack java deve...\n",
      "4  java full stack developer full stack java deve...\n",
      "\n",
      "\n",
      "File: Web_Developer.csv\n",
      "                                          clean_text\n",
      "0  fullstack developer extern web developer web d...\n",
      "1  web developer wordpress 5 years javascript 1 y...\n",
      "2  il lead python integration developer website d...\n",
      "3  php web developer php developer php developer ...\n",
      "4  owner web developer lead web developer html5 j...\n",
      "\n",
      "\n",
      "File: FrontEnd_Developer.csv\n",
      "                                          clean_text\n",
      "0  lead front end developer front end developer f...\n",
      "1  web developer front end developer javascript f...\n",
      "2  front end developer graphic designer customer ...\n",
      "3  full stack software developer full stack devel...\n",
      "4  email campaign developer web developer email c...\n",
      "\n",
      "\n"
     ]
    }
   ],
   "source": [
    "dataset = \"resume_dataset\"\n",
    "cols = [\"clean_text\"]\n",
    "\n",
    "if not os.path.exists(dataset):\n",
    "    print(f\"Folder '{dataset}' does not exist\")\n",
    "else:\n",
    "    csv_files = [file for file in os.listdir(dataset) if file.endswith(\".csv\")]\n",
    "    resume_dataframes = {file: pd.read_csv(os.path.join(dataset, file), usecols=cols) for file in csv_files}\n",
    "    \n",
    "    for file, df in resume_dataframes.items():\n",
    "        print(f\"File: {file}\")\n",
    "        print(df.head())\n",
    "        print(\"\\n\")"
   ]
  },
  {
   "cell_type": "markdown",
   "metadata": {},
   "source": [
    "### Job posting datasets"
   ]
  },
  {
   "cell_type": "code",
   "execution_count": 8,
   "metadata": {},
   "outputs": [
    {
     "name": "stdout",
     "output_type": "stream",
     "text": [
      "                                         description  \\\n",
      "0  PGAV Destinations is seeking a self-motivated ...   \n",
      "1  A leading pharmaceutical company committed to ...   \n",
      "2  Education Bachelor's degree in software, math,...   \n",
      "3  Job Description:GOYT is seeking a skilled and ...   \n",
      "4  Are you driven by the thrill of solving proble...   \n",
      "\n",
      "                                   preprocessed_desc  \n",
      "0  pgav destinations seeking selfmotivated highly...  \n",
      "1  leading pharmaceutical company committed devel...  \n",
      "2  education bachelors degree software math scien...  \n",
      "3  job descriptiongoyt seeking skilled motivated ...  \n",
      "4  driven thrill solving problems offering unpara...  \n"
     ]
    }
   ],
   "source": [
    "dataset = \"job_posting_dataset/computing_desc_job_posting.csv\"\n",
    "cols = [\"description\"]\n",
    "\n",
    "if not os.path.exists(dataset):\n",
    "    print(f\"Folder '{dataset}' does not exist\")\n",
    "else:\n",
    "    job_posting_df = pd.read_csv(dataset, usecols=cols)\n",
    "    job_posting_df[\"preprocessed_desc\"] = job_posting_df[\"description\"].apply(preprocess)\n",
    "   \n",
    "    print(job_posting_df.head())"
   ]
  },
  {
   "cell_type": "code",
   "execution_count": 9,
   "metadata": {},
   "outputs": [
    {
     "name": "stdout",
     "output_type": "stream",
     "text": [
      "44533\n"
     ]
    }
   ],
   "source": [
    "corpus = []\n",
    "for df in resume_dataframes.values():\n",
    "    corpus.extend(df[\"clean_text\"].tolist())\n",
    "corpus.extend(job_posting_df[\"preprocessed_desc\"].tolist())\n",
    "corpus = [str(doc) if not isinstance(doc, str) else doc for doc in corpus]\n",
    "\n",
    "print(len(corpus))"
   ]
  },
  {
   "cell_type": "code",
   "execution_count": 10,
   "metadata": {},
   "outputs": [],
   "source": [
    "sentences = [doc.split() for doc in corpus]\n",
    "\n",
    "model = gensim.models.Word2Vec(sentences, vector_size=100, window=5, min_count=5, workers=4)"
   ]
  },
  {
   "cell_type": "code",
   "execution_count": 11,
   "metadata": {},
   "outputs": [],
   "source": [
    "model.save('matching.model')"
   ]
  },
  {
   "cell_type": "code",
   "execution_count": 12,
   "metadata": {},
   "outputs": [
    {
     "name": "stdout",
     "output_type": "stream",
     "text": [
      "0        PGAV Destinations is seeking a self-motivated ...\n",
      "1        A leading pharmaceutical company committed to ...\n",
      "2        Education Bachelor's degree in software, math,...\n",
      "3        Job Description:GOYT is seeking a skilled and ...\n",
      "4        Are you driven by the thrill of solving proble...\n",
      "                               ...                        \n",
      "12277    Are you a dynamic and experienced Hydraulic Sy...\n",
      "12278    Position: Quality Engineer I/IILocation: Irvin...\n",
      "12279    The Dyrt is the largest digital camping platfo...\n",
      "12280    Position: Quality Engineer I (Complaint Invest...\n",
      "12281    About Pinterest:\\n\\nMillions of people across ...\n",
      "Name: description, Length: 12282, dtype: object\n"
     ]
    }
   ],
   "source": [
    "print(job_posting_df[\"description\"])"
   ]
  },
  {
   "cell_type": "markdown",
   "metadata": {},
   "source": [
    "### Resume matching with job posting"
   ]
  },
  {
   "cell_type": "code",
   "execution_count": 21,
   "metadata": {},
   "outputs": [
    {
     "name": "stdout",
     "output_type": "stream",
     "text": [
      "<class 'float'>\n",
      "                                     Job Description  Similarity Score\n",
      "0  Job Title: Java Full Stack DeveloperLocation: ...          0.902706\n",
      "1  Job Summary: The Java Developer will be respon...          0.898342\n",
      "2  Job Summary: \\nThe Java Developer will be resp...          0.894416\n",
      "3  We are looking for a talented and experienced ...          0.892290\n",
      "4  Our client is looking for a UI Developer for a...          0.887228\n",
      "5  At NEP Group our purpose is to deliver innovat...          0.882354\n",
      "6  Candidates who are willing to work on W2\\nFull...          0.882315\n",
      "7  Role: Java Full StacK developer with react JSL...          0.881021\n",
      "8  If a vendor is submitting a candidate, you mus...          0.880167\n",
      "9  We are seeking a Senior .NET Software Engineer...          0.875350\n"
     ]
    }
   ],
   "source": [
    "# sample resume generated by chatgpt, replace with the resume you want to match\n",
    "input_resume = \"Professional Summary Motivated and detail-oriented Java Developer with over 5 years of experience in designing, developing, and maintaining scalable Java-based applications. Proficient in Java, Spring Boot, Hibernate, and RESTful APIs, with a proven track record of delivering high-quality software solutions in Agile environments. Adept at collaborating with cross-functional teams to enhance application performance and user experience. Seeking to leverage my expertise to drive the success of innovative software projects. Technical SkillsProgramming Languages: Java (expert), Python (intermediate), SQL (advanced), JavaScript (proficient) Frameworks: Spring Boot (expert), Hibernate (advanced), J2EE (proficient) Tools: Eclipse, IntelliJ IDEA, Git, JIRA Databases: MySQL (advanced), Oracle (proficient), MongoDB (intermediate) APIs: RESTful APIs, SOAP APIs Other Skills: Object-Oriented Design (OOD), Microservices Architecture, Unit Testing Professional Experience Senior Java Developer TechVantage Solutions | San Francisco, CA June 2020 – Present Designed and developed scalable microservices architecture using Spring Boot and Hibernate. Optimized server performance by creating custom Java APIs, reducing processing time by 20%. Led a team of developers in maintaining and upgrading legacy Java applications. Conducted automated testing using JUnit and Mockito to ensure code quality. Collaborated with cross-functional teams to gather requirements and implement solutions aligned with business goals. Key Achievement: Reduced system downtime by 30% through proactive debugging and performance optimization. Java Developer Apex Systems | Los Angeles, CA May 2017 – May 2020 Developed enterprise-level applications using Java/J2EE technologies. Enhanced application functionality by implementing new features based on user feedback. Conducted regular code reviews to ensure adherence to best practices. Created interactive UIs using JSP, HTML5, and CSS3. Key Achievement: Improved application response time by 25% through efficient database query optimization. Education Bachelor of Science in Computer Science University of California, Berkeley | Berkeley, CA Graduation Date: May 2017 Certifications Oracle Certified Professional: Java SE Programmer (OCPJP) – 2021 Professional Scrum Master I (PSM I) – 2020 Projects E-Commerce Platform Development Built a scalable e-commerce platform using Spring Boot and Hibernate. Integrated payment gateways and optimized database queries for faster transaction processing. Mobile Application Development Developed a mobile application for fitness tracking using Java and SQLite. Implemented RESTful APIs for seamless communication between the app and the server.\"\n",
    "\n",
    "similar_job_postings = find_similar_texts(input_resume, job_posting_df[\"description\"], model)\n",
    "# top_postings = [(text, similarity) for text, similarity in similar_job_postings]\n",
    "# top_postings_df = pd.DataFrame(top_postings, columns=[\"Job Description\", \"Similarity Score\"])\n",
    "\n",
    "print(similar_job_postings)"
   ]
  },
  {
   "cell_type": "code",
   "execution_count": null,
   "metadata": {},
   "outputs": [],
   "source": []
  }
 ],
 "metadata": {
  "kernelspec": {
   "display_name": ".venv",
   "language": "python",
   "name": "python3"
  },
  "language_info": {
   "codemirror_mode": {
    "name": "ipython",
    "version": 3
   },
   "file_extension": ".py",
   "mimetype": "text/x-python",
   "name": "python",
   "nbconvert_exporter": "python",
   "pygments_lexer": "ipython3",
   "version": "3.11.11"
  }
 },
 "nbformat": 4,
 "nbformat_minor": 2
}
