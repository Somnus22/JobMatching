{
 "cells": [
  {
   "cell_type": "code",
   "execution_count": 22,
   "metadata": {},
   "outputs": [],
   "source": [
    "#%pip install spacy\n",
    "#%pip install nltk"
   ]
  },
  {
   "cell_type": "code",
   "execution_count": 23,
   "metadata": {},
   "outputs": [],
   "source": [
    "import pandas as pd\n",
    "import numpy as np"
   ]
  },
  {
   "cell_type": "code",
   "execution_count": 24,
   "metadata": {},
   "outputs": [],
   "source": [
    "# import csv\n",
    "df = pd.read_csv('../data/resumes/Database_Administrator.csv')\n",
    "\n",
    "# merge all clean_text rows into one string variable \n",
    "resume_skills = \" \".join(df['clean_text'])"
   ]
  },
  {
   "cell_type": "code",
   "execution_count": 25,
   "metadata": {},
   "outputs": [],
   "source": [
    "import nltk\n",
    "from nltk.tokenize import word_tokenize\n",
    "from nltk.corpus import stopwords\n",
    "\n",
    "#nltk.download('punkt')\n",
    "#nltk.download('stopwords')"
   ]
  },
  {
   "cell_type": "code",
   "execution_count": 26,
   "metadata": {},
   "outputs": [],
   "source": [
    "# tokenise and remove stopwords\n",
    "#stop_words = set(stopwords.words('english'))\n",
    "#resume_tokens = word_tokenize(resume_skills.lower())\n",
    "\n",
    "# convert to set to remove duplicates then back to list\n",
    "#unique_tokens = list(set(resume_tokens))\n",
    "\n",
    "#filtered_tokens = [word for word in resume_tokens if word.isalpha() and word not in stop_words]"
   ]
  },
  {
   "cell_type": "code",
   "execution_count": 27,
   "metadata": {},
   "outputs": [],
   "source": [
    "import spacy\n",
    "from spacy.pipeline import EntityRuler\n",
    "from collections import defaultdict\n",
    "#spacy.cli.download(\"en_core_web_sm\")"
   ]
  },
  {
   "cell_type": "code",
   "execution_count": 28,
   "metadata": {},
   "outputs": [
    {
     "name": "stdout",
     "output_type": "stream",
     "text": [
      "=== EXTRACTED SKILLS BY CATEGORY ===\n",
      "\n",
      "== Cloud Platform (CP) ==\n",
      "- aws\n",
      "\n",
      "== Database (DB) ==\n",
      "- postgresql\n",
      "- sql server\n",
      "\n",
      "== Programming Language (PL) ==\n",
      "- python3\n",
      "- sql\n",
      "\n",
      "== Software Engineering (SWE) ==\n",
      "- agile\n",
      "\n"
     ]
    }
   ],
   "source": [
    "import re\n",
    "from collections import defaultdict\n",
    "\n",
    "# Expanded regex patterns for better matching\n",
    "patterns = {\n",
    "    \"Programming Language (PL)\": r\"\\b(?:python\\d*|java(?:script)?|c\\+\\+|c#|sql|ruby|go|swift|typescript|r|kotlin)\\b\",\n",
    "    \n",
    "    \"Framework (FW)\": r\"\\b(?:django|flask|spring|react(?:\\.js)?|angular|vue|express|fastapi|\\.net|laravel)\\b\",\n",
    "    \n",
    "    \"Database (DB)\": r\"\\b(?:sql\\s*server|mysql|postgresql|mongodb|oracle|sqlite|firebase|cassandra)\\b\",\n",
    "    \n",
    "    \"Cloud Platform (CP)\": r\"\\b(?:aws|amazon\\s*web\\s*services|azure|google\\s*cloud|gcp|ibm\\s*cloud|digitalocean|heroku)\\b\",\n",
    "    \n",
    "    \"DevOps (DO)\": r\"\\b(?:docker|kubernetes|jenkins|terraform|ansible|ci/cd|travis\\s*ci|circleci)\\b\",\n",
    "    \n",
    "    \"Network & Security\": r\"\\b(?:firewall|vpn|ssl/tls|penetration\\s*testing|ids|ips|tcp/ip|zero\\s*trust)\\b\",\n",
    "    \n",
    "    \"Data Analysis & Science\": r\"\\b(?:pandas|numpy|scikit-learn|tensorflow|power\\s*bi|excel|tableau|matplotlib)\\b\",\n",
    "    \n",
    "    \"Software Engineering (SWE)\": r\"\\b(?:software\\s*development|design\\s*patterns|oop|agile|scrum|unit\\s*testing)\\b\",\n",
    "    \n",
    "    \"Project Management (PM)\": r\"\\b(?:jira|trello|asana|kanban|scrum\\s*master|prince2|pmp|stakeholder\\s*management)\\b\",\n",
    "    \n",
    "    \"Education Certification (EC)\": r\"\\b(?:bachelor|master|phd|certified|csm|pmp|aws\\s*certified|cissp|ccna|cfa)\\b\",\n",
    "    \n",
    "    \"Soft Skills (SS)\": r\"\\b(?:communication|leadership|teamwork|problem\\s*solving|critical\\s*thinking|adaptability)\\b\"\n",
    "}\n",
    "\n",
    "# Test text with various skills\n",
    "test_text = \"\"\"\n",
    "I'm experienced in Python3, SQL queries, SQL Server 2019, AWS Cloud, \n",
    "Dockerized apps, Agile development, problem-solving skills, ReactJS, and PostgreSQL.\n",
    "\"\"\"\n",
    "\n",
    "# Extracted entities dictionary\n",
    "extracted_entities = defaultdict(set)\n",
    "\n",
    "# Apply regex patterns with wildcard matching\n",
    "for label, pattern in patterns.items():\n",
    "    matches = re.findall(pattern, test_text, re.IGNORECASE)\n",
    "    \n",
    "    # Ensure all matches are converted to lowercase\n",
    "    for match in matches:\n",
    "        if isinstance(match, tuple):  # Handle tuple case from capture groups\n",
    "            extracted_entities[label].update(map(str.lower, match))\n",
    "        else:\n",
    "            extracted_entities[label].add(match.lower())\n",
    "\n",
    "# Display extracted skills\n",
    "print(\"=== EXTRACTED SKILLS BY CATEGORY ===\\n\")\n",
    "for label, entities in sorted(extracted_entities.items()):\n",
    "    print(f\"== {label} ==\")\n",
    "    for entity in sorted(entities):\n",
    "        print(f\"- {entity}\")\n",
    "    print()\n"
   ]
  }
 ],
 "metadata": {
  "kernelspec": {
   "display_name": "base",
   "language": "python",
   "name": "python3"
  },
  "language_info": {
   "codemirror_mode": {
    "name": "ipython",
    "version": 3
   },
   "file_extension": ".py",
   "mimetype": "text/x-python",
   "name": "python",
   "nbconvert_exporter": "python",
   "pygments_lexer": "ipython3",
   "version": "3.12.7"
  }
 },
 "nbformat": 4,
 "nbformat_minor": 2
}
