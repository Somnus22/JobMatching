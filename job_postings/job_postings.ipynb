{
 "cells": [
  {
   "cell_type": "code",
   "execution_count": 2,
   "metadata": {},
   "outputs": [],
   "source": [
    "import pandas as pd\n",
    "\n",
    "df = pd.read_csv('computing_job_postings.csv')\n",
    "\n",
    "totalRows = df.shape[0]"
   ]
  },
  {
   "cell_type": "code",
   "execution_count": 9,
   "metadata": {},
   "outputs": [
    {
     "name": "stdout",
     "output_type": "stream",
     "text": [
      "=== EXTRACTED ENTITIES ===\n",
      "\n",
      "Programming Language (PL): typescript\n",
      "Cloud Platform (CP): aws  reactbachelor degree\n",
      "Software Engineering (SWE): code review, senior software engineer, software development\n",
      "Soft Skills (SS): communication\n",
      "\n",
      "=== LEFTOVER TEXT ===\n",
      "\n",
      "veho veho experience company unlocks potential everyday consumer brand fully participate building entirely new logistics infrastructure powered latest technology designed modern era shopping veho reinventing shipping part experience know removing pain delivery return veho creating powerful opportunity brand engage build deep loyalty customer like never role  responsible building tooling power driver partner experience veho platform work project inform driver partner claim route get paid veho fairly price effort delivery build apis application integrate data science system empower decision work various team drive architectural solution development including inception design execution delivery following good design coding practice responsibility include architecting building testing deploying application support driver portion marketplacemodifying design specification complex distributed micro service applicationscollaborating adding value participation peer  providing comment suggestionsworking technical engineer data scientist product manager cross functional quick moving collaborative environmentanalyzing code requirement system risk software reliability providing recommendation leverage technology efficientlyworking product design confirm requirement prioritization development new featuresworking data science team integrate data based decision product offering bring year experience building testing deploying application high traffic production year experience developing software reactenjoys taking initiative willing move fast ship quick excited collaborating big challengesenthusiastic working closely data science product operation team member develop creative solution problem brand new problem spacetech stack  computer science equivalent combination technical education work experiencesolid  background including serverless pattern data structure test driven developmentexcellent  skill convey complex technical information effectively internal stakeholder veho growth company look team member grow veho offer generous ownership package casual work environment diverse inclusive culture electric atmosphere professional development matter location role every veho employee share one galvanizing mission revolutionize world package delivery creating exceptional experience customer driver deeply team drive impact take ownership solve bigger obsess experience make today count care tremendously investing people committed creating diverse team environment provides everyone opportunity work lifetime veho unable provide sponsorship time veho committed nurturing cultivating preserving diverse inclusive work environment empathy respect core value central part working every day diversity employee driver applicant welcomed encouraged providing phone number consent possibly texted relation job currently applying free time texting  occurs veho\n"
     ]
    }
   ],
   "source": [
    "import re\n",
    "import random\n",
    "from collections import defaultdict\n",
    "\n",
    "# Expanded regex patterns for better matching\n",
    "patterns = {\n",
    "    \"Programming Language (PL)\": r\"\\b(?:python\\d*|java(?:script)?|c\\+\\+|c#|sql|ruby|go|swift|typescript|r|kotlin)\\b\",\n",
    "    \n",
    "    \"Framework (FW)\": r\"\\b(?:django|flask|spring|react(?:.js)?|angular|vue|express|fastapi|\\.net|laravel)\\b\",\n",
    "    \n",
    "    \"Database (DB)\": r\"\\b(?:sql\\s*server|mysql|postgresql|mongodb|oracle|sqlite|firebase|cassandra|database(?:\\s+\\w+){0,1})\\b\",\n",
    "    \n",
    "    \"Cloud Platform (CP)\": r\"\\b(?:aws(?:\\s+\\w+){0,2}|amazon\\s*web\\s*services|azure|google\\s*cloud|gcp|ibm\\s*cloud|digitalocean|heroku)\\b\",\n",
    "    \n",
    "    \"DevOps (DO)\": r\"\\b(?:docker(?:ized)?|kubernetes|jenkins|terraform|ansible|ci/cd|travis\\s*ci|circleci)\\b\",\n",
    "    \n",
    "    \"Network & Security\": r\"\\b(?:firewall|vpn|ssl/tls|penetration\\s*testing|ids|ips|tcp/ip|zero\\s*trust)\\b\",\n",
    "    \n",
    "    \"Data Analysis & Science\": r\"\\b(?:pandas|numpy|scikit-learn|tensorflow|power\\s*bi|excel|tableau|matplotlib|data\\s*visualisation|data\\s*visualization|visualizing\\s*data|AI|artificial\\s*intelligence|machine\\s*learning|ML|NLP|natural\\s*language\\s*processing|text\\s*analytics|language\\s*model(?:s|ing)?|transaction\\s*management|data\\s*transaction(?:s)?|text\\s*mining|data\\s*mining|statistical\\s*modelling|statistical\\s*modeling|analytics|data\\s*analytics|business\\s*analytics|predictive\\s*analytics)\\b\",\n",
    "    \n",
    "    \"Software Engineering (SWE)\": r\"\\b(?:software\\s*development|design\\s*patterns|unit\\s*testing|full\\s*stack|fullstack|full-stack|software\\s*engineer(?:ing)?|junior\\s*(?:software\\s*)?engineer|senior\\s*(?:software\\s*)?engineer|staff\\s*engineer|principal\\s*engineer|software\\s*engineer\\s*intern(?:ship)?|code\\s*optimi(?:s|z)ation|performance\\s*tuning|code\\s*refactoring|refactor(?:ing)?|microservice(?:s)?|MSA|microservice\\s*architecture|containerization|docker|kubernetes|k8s|code\\s*review(?:s)?|peer\\s*review(?:s)?|eclipse|eclipse\\s*ide|hibernate|hibernate\\s*orm|jquery|rest(?:ful)?\\s*api(?:s)?|rest\\s*api(?:s)?|restful\\s*web\\s*service(?:s)?|api\\s*development|web\\s*service(?:s)?|object\\s*oriented\\s*programming|oop|object\\s*oriented\\s*design|jsp|java\\s*server\\s*pages|rpc|remote\\s*procedure\\s*call|j2ee|java\\s*ee|jvm|java\\s*virtual\\s*machine|jax|jax-rs|jax-ws|apache|apache\\s*(?:kafka|tomcat|maven|ant|struts|camel|spark|hadoop|flink)|bootstrap|front-end\\s*framework|rabbitmq|message\\s*(?:queue|broker)|front[\\s-]end|back[\\s-]end|web\\s*design|ui|user\\s*interface|ux|user\\s*experience|ui\\/ux|front[\\s-]end\\s*development|back[\\s-]end\\s*development|web\\s*development)\\b\",\n",
    "    \n",
    "    \"Project Management (PM)\": r\"\\b(?:agile|jira|trello|asana|kanban|prince2|stakeholder\\s*management|(?<!certified\\s)scrum(?!\\smaster))\\b\",\n",
    "\n",
    "    \"Education Certification (EC)\": r\"\\bcertified\\s+scrum\\s+master\\b|\\bcsm\\b|\\bpmp\\b|\\baws\\s+certified\\b|\\bazure\\s+certified\\b|\\bgcp\\s+certified\\b|\\bcissp\\b|\\bccna\\b|\\bceh\\b|\\bcomptia\\b|\\bcisa\\b|\\bcism\\b|\\b(?:bachelor(?:\\s+of\\s+(?:science|engineering|computer\\s+science|information\\s+technology|information\\s+systems|cybersecurity|data\\s+science|software\\s+engineering))?(?:\\s+in\\s+(?:computer\\s+science|computer\\s+engineering|information\\s+technology|information\\s+systems|cybersecurity|data\\s+science|software\\s+engineering|artificial\\s+intelligence|machine\\s+learning))?|B\\.?S\\.?|B\\.?E\\.?|B\\.?C\\.?S\\.?|B\\.?Tech\\.?|(?<!certified\\s)master(?:\\s+of\\s+(?:science|engineering|computer\\s+science|information\\s+technology|information\\s+systems|cybersecurity|data\\s+science|software\\s+engineering))?(?:\\s+in\\s+(?:computer\\s+science|computer\\s+engineering|information\\s+technology|information\\s+systems|cybersecurity|data\\s+science|software\\s+engineering|artificial\\s+intelligence|machine\\s+learning))?|M\\.?S\\.?|M\\.?E\\.?|M\\.?C\\.?S\\.?|M\\.?Tech\\.?|phd|ph\\.?d\\.?|doctorate|doctor\\s+of\\s+philosophy(?:\\s+in\\s+(?:computer\\s+science|computer\\s+engineering|information\\s+technology|data\\s+science))?|specialisation\\s+in\\s+(?:software|data|cloud|security|networking|ai|machine\\s+learning)|specialization\\s+in\\s+(?:software|data|cloud|security|networking|ai|machine\\s+learning)|minor\\s+in\\s+(?:computer\\s+science|information\\s+technology|data\\s+science|software\\s+engineering)|major\\s+in\\s+(?:computer\\s+science|information\\s+technology|data\\s+science|software\\s+engineering))\\b\",\n",
    "    \n",
    "    \"Soft Skills (SS)\": r\"\\b(?:communication|leadership|teamwork|problem\\s*solving|critical\\s*thinking|adaptability)\\b\"\n",
    "}\n",
    "\n",
    "test_text = df.iloc[random.randint(1, totalRows)]['cleaned_description']\n",
    "\n",
    "extracted_entities = defaultdict(set)\n",
    "#modified_text = remove_stopwords(test_text_2)\n",
    "modified_text = test_text\n",
    "\n",
    "# Apply regex patterns with wildcard matching\n",
    "for label, pattern in patterns.items():\n",
    "    # Define the replacement function inside the loop\n",
    "    # This creates a new function for each iteration\n",
    "    def replacement_func(match_obj):\n",
    "        match_text = match_obj.group(0)\n",
    "        \n",
    "        # Add the match to extracted entities\n",
    "        if isinstance(match_text, tuple):  # Handle tuple case from capture groups\n",
    "            extracted_entities[label].update(map(str.lower, match_text))\n",
    "        else:\n",
    "            extracted_entities[label].add(match_text.lower())\n",
    "            \n",
    "        # Return empty string to remove the match from the text\n",
    "        return \"\"\n",
    "    \n",
    "    # Find matches and replace them with empty string\n",
    "    modified_text = re.sub(pattern, replacement_func, modified_text, flags=re.IGNORECASE)\n",
    "\n",
    "# Print the extracted entities\n",
    "print(\"=== EXTRACTED ENTITIES ===\\n\")\n",
    "for label, entities in extracted_entities.items():\n",
    "    # Convert set to a comma-separated string for printing\n",
    "    entities_str = \", \".join(sorted(entities))\n",
    "    print(f\"{label}: {entities_str}\")\n",
    "\n",
    "# Print the leftover text\n",
    "print(\"\\n=== LEFTOVER TEXT ===\\n\")\n",
    "print(modified_text)"
   ]
  },
  {
   "cell_type": "code",
   "execution_count": null,
   "metadata": {},
   "outputs": [],
   "source": []
  },
  {
   "cell_type": "code",
   "execution_count": null,
   "metadata": {},
   "outputs": [],
   "source": []
  }
 ],
 "metadata": {
  "kernelspec": {
   "display_name": ".venv",
   "language": "python",
   "name": "python3"
  },
  "language_info": {
   "codemirror_mode": {
    "name": "ipython",
    "version": 3
   },
   "file_extension": ".py",
   "mimetype": "text/x-python",
   "name": "python",
   "nbconvert_exporter": "python",
   "pygments_lexer": "ipython3",
   "version": "3.11.11"
  }
 },
 "nbformat": 4,
 "nbformat_minor": 2
}
