{
 "cells": [
  {
   "cell_type": "code",
   "execution_count": 4,
   "metadata": {},
   "outputs": [],
   "source": [
    "import pandas as pd\n",
    "from resources import *\n",
    "import json\n",
    "\n",
    "df = pd.read_csv('../short.csv')\n",
    "extracted_skills_column = []\n",
    "\n",
    "for index, row in df.iterrows():\n",
    "    text = row['cleaned_description']\n",
    "    resume_ngrams = extract_ngrams_from_text(text)  # Generate n-grams\n",
    "    resume_skills = match_skills(resume_ngrams, text)  # Match skills\n",
    "    education_skills = resume_skills[\"Education Certification (EC)\"]\n",
    "    predictions = predict_entities(text)\n",
    "    outside_words = predictions[\"Outside (O)\"]  # Extract \"Outside\" words/phrases from Model 2\n",
    "    outside_text = preprocess_text(\" \".join(outside_words))\n",
    "    outside_ngrams = extract_ngrams_from_text(outside_text)  # Generate n-grams\n",
    "    skills_from_outside = match_skills(outside_ngrams, outside_text)  # Match skills\n",
    "\n",
    "    for category, skills in predictions.items():\n",
    "        if category != \"Outside (O)\" and category != \"Education Certification (EC)\":\n",
    "            for word in skills:\n",
    "                skills_from_outside[category].add(preprocess_text(word))\n",
    "    \n",
    "    skills_from_outside[\"Education Certification (EC)\"] = education_skills\n",
    "    outside_skills_dict = {key:list(itemList) for key,itemList in skills_from_outside.items()}\n",
    "\n",
    "    extracted_skills = json.dumps(outside_skills_dict)  # Convert dict to string for storage\n",
    "    extracted_skills_column.append(extracted_skills)\n",
    "\n",
    "df[\"extracted_skills\"] = pd.Series(extracted_skills_column)\n",
    "\n",
    "df.to_csv(\"extracted_job_skills.csv\")"
   ]
  },
  {
   "cell_type": "code",
   "execution_count": null,
   "metadata": {},
   "outputs": [],
   "source": []
  }
 ],
 "metadata": {
  "kernelspec": {
   "display_name": ".venv",
   "language": "python",
   "name": "python3"
  },
  "language_info": {
   "codemirror_mode": {
    "name": "ipython",
    "version": 3
   },
   "file_extension": ".py",
   "mimetype": "text/x-python",
   "name": "python",
   "nbconvert_exporter": "python",
   "pygments_lexer": "ipython3",
   "version": "3.11.11"
  }
 },
 "nbformat": 4,
 "nbformat_minor": 2
}
